{
 "cells": [
  {
   "cell_type": "markdown",
   "metadata": {},
   "source": [
    "# Factory Method\n",
    "\n",
    "\n",
    "by Lucas Rumney"
   ]
  },
  {
   "cell_type": "markdown",
   "metadata": {},
   "source": [
    "## Concept\n",
    "\n",
    "Creational Pattern\n",
    "\n",
    "\n",
    "Creates objects without having to specify the exact class.\n",
    "\n",
    "The Factory Method pattern can be used to create an interface for a\n",
    "method, leaving the implementation to the class that gets\n",
    "instantiated.\n",
    "\n",
    "The Factory Method can be seen in the popular web framework Django:\n",
    "http://django.wikispaces.asu.edu/*NEW*+Django+Design+Patterns For\n",
    "example, in a contact form of a web page, the subject and the message\n",
    "fields are created using the same form factory (CharField()), even\n",
    "though they have different implementations according to their\n",
    "purposes.\n",
    "\n",
    "In class-based programming, the factory method pattern is a creational pattern that uses factory methods to deal with the problem of creating objects without having to specify the exact class of the object that will be created. This is done by creating objects by calling a factory method—either specified in an interface and implemented by child classes, or implemented in a base class and optionally overridden by derived classes—rather than by calling a constructor.\n",
    "\n",
    "\n"
   ]
  },
  {
   "cell_type": "markdown",
   "metadata": {},
   "source": [
    "## Python Implementation\n",
    "\n",
    "The code below shows a way to localize words in two languages: English and\n",
    "French. \"getLocalizer\" is the factory method that constructs a\n",
    "localizer depending on the language chosen. The localizer object will\n",
    "be an instance from a different class according to the language\n",
    "localized. However, the main code does not have to worry about which\n",
    "localizer will be instantiated, since the method \"get\" will be called\n",
    "in the same way independently of the language."
   ]
  },
  {
   "cell_type": "code",
   "execution_count": 2,
   "metadata": {},
   "outputs": [
    {
     "name": "stdout",
     "output_type": "stream",
     "text": [
      "('dog', 'le dog')\n",
      "('parrot', 'parrot')\n",
      "('cat', 'le cat')\n",
      "('bear', 'bear')\n"
     ]
    }
   ],
   "source": [
    "# -*- coding: utf-8 -*-\n",
    "\n",
    "\n",
    "class FrenchGetter(object):\n",
    "\n",
    "    \"\"\"A simple localizer a la gettext\"\"\"\n",
    "\n",
    "    def __init__(self):\n",
    "        self.trans = dict(dog=\"le dog\", cat=\"le cat\")\n",
    "\n",
    "    def get(self, msgid):\n",
    "        \"\"\"We'll punt if we don't have a translation\"\"\"\n",
    "        return self.trans.get(msgid, str(msgid))\n",
    "\n",
    "\n",
    "class EnglishGetter(object):\n",
    "\n",
    "    \"\"\"Simply echoes the msg ids\"\"\"\n",
    "\n",
    "    def get(self, msgid):\n",
    "        return str(msgid)\n",
    "\n",
    "\n",
    "def get_localizer(language=\"English\"):\n",
    "    \"\"\"The factory method\"\"\"\n",
    "    languages = dict(English=EnglishGetter, French=FrenchGetter)\n",
    "    return languages[language]()\n",
    "\n",
    "\n",
    "if __name__ == '__main__':\n",
    "    # Create our localizers\n",
    "    e, g = get_localizer(language=\"English\"), get_localizer(language=\"French\")\n",
    "    # Localize some text\n",
    "    for msgid in \"dog parrot cat bear\".split():\n",
    "        print(e.get(msgid), g.get(msgid))\n",
    "\n",
    "### OUTPUT ###\n",
    "# dog le dog\n",
    "# parrot parrot\n",
    "# cat le cat\n",
    "# bear bear"
   ]
  },
  {
   "cell_type": "markdown",
   "metadata": {},
   "source": [
    "\n",
    "## Apollo Example"
   ]
  },
  {
   "cell_type": "code",
   "execution_count": 15,
   "metadata": {},
   "outputs": [
    {
     "name": "stdout",
     "output_type": "stream",
     "text": [
      "My GreenLinecard Status is Operational\n",
      "My RedLinecard Status is Operational\n",
      "My GreenLinecard Status is Operational\n",
      "My GreenLinecard Status is Operational\n",
      "My RedLinecard Status is Operational\n"
     ]
    }
   ],
   "source": [
    "# Without Factory Method\n",
    "\n",
    "import random\n",
    "\n",
    "class Linecard():  \n",
    "    def __init__(self):\n",
    "        self.status = 'Operational'\n",
    "        \n",
    "        \n",
    "class RedLinecard(Linecard):\n",
    "    pass\n",
    "        \n",
    "    \n",
    "class GreenLinecard(Linecard):\n",
    "    pass\n",
    "\n",
    "my_linecards = []\n",
    "\n",
    "for i in range(0,5):\n",
    "    what_kind_of_card = random.randint(0,1)\n",
    "    if what_kind_of_card == 0:\n",
    "        temp = RedLinecard()\n",
    "        my_linecards.append(temp)\n",
    "        \n",
    "    elif what_kind_of_card == 1:\n",
    "        temp = GreenLinecard()\n",
    "        my_linecards.append(temp) \n",
    "\n",
    "        \n",
    "for linecard in my_linecards:\n",
    "    print('My {} Status is {}'.format(linecard.__class__.__name__, linecard.status))\n",
    "\n",
    "\n",
    "# For each new possible card we have to \n",
    "# add an if statement\n",
    "# create another class\n",
    "# create a temp \n",
    "\n",
    "\n"
   ]
  },
  {
   "cell_type": "code",
   "execution_count": 25,
   "metadata": {},
   "outputs": [
    {
     "name": "stdout",
     "output_type": "stream",
     "text": [
      "My RedLinecard Status is Operational\n",
      "My RedLinecard Status is Operational\n",
      "My GreenLinecard Status is Operational\n",
      "My GreenLinecard Status is Operational\n",
      "My RedLinecard Status is Operational\n"
     ]
    }
   ],
   "source": [
    "# With Factory Method\n",
    "\n",
    "import random\n",
    "\n",
    "\n",
    "\n",
    "class Linecard():  \n",
    "    def __init__(self):\n",
    "        self.status = 'Operational'\n",
    "        \n",
    "        \n",
    "class RedLinecard(Linecard):\n",
    "    pass\n",
    "        \n",
    "    \n",
    "class GreenLinecard(Linecard):\n",
    "    pass\n",
    "\n",
    "\n",
    "def get_linecard(type='red'):\n",
    "    types_of_linecards = dict(red=RedLinecard(), green=GreenLinecard())\n",
    "    return types_of_linecards[type]\n",
    "    \n",
    "\n",
    "my_linecards = []\n",
    "colors = ['red', 'green']\n",
    "for i in range(0,5):\n",
    "    what_kind_of_card = colors[random.randint(0,1)]\n",
    "    my_linecards.append(get_linecard(what_kind_of_card)) \n",
    "\n",
    "\n",
    "for linecard in my_linecards:\n",
    "    print('My {} Status is {}'.format(linecard.__class__.__name__, linecard.status))\n",
    "\n",
    "    \n",
    "    \n",
    "    \n",
    "# For each new possible card we have to \n",
    "# add an if statement\n",
    "# create another class\n",
    "# "
   ]
  },
  {
   "cell_type": "markdown",
   "metadata": {},
   "source": [
    "## Further Reading\n",
    "\n",
    "http://ginstrom.com/scribbles/2007/10/08/design-patterns-python-style/\n",
    "\n",
    "\n",
    "https://fkromer.github.io/python-pattern-references/design/#factory-method\n",
    "\n",
    "\n",
    "https://sourcemaking.com/design_patterns/factory_method\n",
    "\n",
    "\n",
    "https://www.youtube.com/watch?v=_Nqwv311ycg&index=2&list=PLTgRMOcmRb3PQEztkPnMvAeehReJPoSNP\n"
   ]
  },
  {
   "cell_type": "code",
   "execution_count": null,
   "metadata": {},
   "outputs": [],
   "source": []
  }
 ],
 "metadata": {
  "kernelspec": {
   "display_name": "Python 3",
   "language": "python",
   "name": "python3"
  },
  "language_info": {
   "codemirror_mode": {
    "name": "ipython",
    "version": 3
   },
   "file_extension": ".py",
   "mimetype": "text/x-python",
   "name": "python",
   "nbconvert_exporter": "python",
   "pygments_lexer": "ipython3",
   "version": "3.7.4"
  }
 },
 "nbformat": 4,
 "nbformat_minor": 2
}
