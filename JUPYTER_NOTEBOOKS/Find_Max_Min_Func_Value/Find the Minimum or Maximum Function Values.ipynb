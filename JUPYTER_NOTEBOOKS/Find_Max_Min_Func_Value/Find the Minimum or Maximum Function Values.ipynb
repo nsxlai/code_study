{
 "cells": [
  {
   "cell_type": "markdown",
   "metadata": {},
   "source": [
    "## Find the Minimum or Maximum Function Values"
   ]
  },
  {
   "cell_type": "markdown",
   "metadata": {},
   "source": [
    "#### Definte the function and the value series"
   ]
  },
  {
   "cell_type": "code",
   "execution_count": 1,
   "metadata": {},
   "outputs": [
    {
     "data": {
      "text/plain": [
       "[20,\n",
       " 100,\n",
       " 41,\n",
       " 67,\n",
       " 23,\n",
       " 15,\n",
       " 72,\n",
       " 10,\n",
       " 97,\n",
       " 55,\n",
       " 84,\n",
       " 32,\n",
       " 90,\n",
       " 27,\n",
       " 47,\n",
       " 25,\n",
       " 45,\n",
       " 40,\n",
       " 30,\n",
       " 63]"
      ]
     },
     "execution_count": 1,
     "metadata": {},
     "output_type": "execute_result"
    }
   ],
   "source": [
    "from random import shuffle\n",
    "test_values = [10, 15, 20, 23, 25, 27, 30, 32, 40, 41, 45, 47, 55, 63, 67, 72, 84, 90, 97, 100]\n",
    "shuffle(test_values)\n",
    "test_values"
   ]
  },
  {
   "cell_type": "code",
   "execution_count": 2,
   "metadata": {},
   "outputs": [],
   "source": [
    "def test_func(input_value):\n",
    "    '''Do some process to the input value'''\n",
    "    if input_value >= 40:\n",
    "        return input_value / 2\n",
    "    return input_value * 3"
   ]
  },
  {
   "cell_type": "code",
   "execution_count": 3,
   "metadata": {},
   "outputs": [
    {
     "data": {
      "text/plain": [
       "20     60.0\n",
       "100    50.0\n",
       "41     20.5\n",
       "67     33.5\n",
       "23     69.0\n",
       "15     45.0\n",
       "72     36.0\n",
       "10     30.0\n",
       "97     48.5\n",
       "55     27.5\n",
       "84     42.0\n",
       "32     96.0\n",
       "90     45.0\n",
       "27     81.0\n",
       "47     23.5\n",
       "25     75.0\n",
       "45     22.5\n",
       "40     20.0\n",
       "30     90.0\n",
       "63     31.5\n",
       "dtype: float64"
      ]
     },
     "execution_count": 3,
     "metadata": {},
     "output_type": "execute_result"
    }
   ],
   "source": [
    "import pandas as pd\n",
    "test_value_output = [test_func(value) for value in test_values]\n",
    "test_series = pd.Series(test_value_output, index=test_values)\n",
    "test_series"
   ]
  },
  {
   "cell_type": "markdown",
   "metadata": {},
   "source": [
    "### General pattern for minimum:"
   ]
  },
  {
   "cell_type": "code",
   "execution_count": 4,
   "metadata": {},
   "outputs": [
    {
     "name": "stdout",
     "output_type": "stream",
     "text": [
      "Input value 40 will get the lowest output value 20.0\n"
     ]
    }
   ],
   "source": [
    "min_output = float('inf')  # to find a minimum value of a series, set the \"best_value\" to \n",
    "                           # some arbitary large value. Set to infinity in this case.\n",
    "for value in test_values:\n",
    "    output = test_func(value)\n",
    "\n",
    "    if output < min_output:\n",
    "        _input = value\n",
    "        min_output = output\n",
    "\n",
    "# Display the final output:\n",
    "print(f'Input value {_input} will get the lowest output value {min_output}')"
   ]
  },
  {
   "cell_type": "markdown",
   "metadata": {},
   "source": [
    "### More efficient pattern for finding the minimum:"
   ]
  },
  {
   "cell_type": "code",
   "execution_count": 5,
   "metadata": {},
   "outputs": [
    {
     "data": {
      "text/plain": [
       "{20: 60,\n",
       " 100: 50.0,\n",
       " 41: 20.5,\n",
       " 67: 33.5,\n",
       " 23: 69,\n",
       " 15: 45,\n",
       " 72: 36.0,\n",
       " 10: 30,\n",
       " 97: 48.5,\n",
       " 55: 27.5,\n",
       " 84: 42.0,\n",
       " 32: 96,\n",
       " 90: 45.0,\n",
       " 27: 81,\n",
       " 47: 23.5,\n",
       " 25: 75,\n",
       " 45: 22.5,\n",
       " 40: 20.0,\n",
       " 30: 90,\n",
       " 63: 31.5}"
      ]
     },
     "execution_count": 5,
     "metadata": {},
     "output_type": "execute_result"
    }
   ],
   "source": [
    "value_dict = {value: test_func(value) for value in test_values}\n",
    "value_dict"
   ]
  },
  {
   "cell_type": "code",
   "execution_count": 6,
   "metadata": {},
   "outputs": [
    {
     "name": "stdout",
     "output_type": "stream",
     "text": [
      "Input value 40 will get the lowest output value 20.0\n"
     ]
    }
   ],
   "source": [
    "_input = min(value_dict, key=value_dict.get)\n",
    "print(f'Input value {_input} will get the lowest output value {value_dict[_input]}')"
   ]
  },
  {
   "cell_type": "markdown",
   "metadata": {},
   "source": [
    "### General pattern for maximum:"
   ]
  },
  {
   "cell_type": "code",
   "execution_count": 7,
   "metadata": {},
   "outputs": [
    {
     "name": "stdout",
     "output_type": "stream",
     "text": [
      "Input value 32 will get the lowest output value 96\n"
     ]
    }
   ],
   "source": [
    "max_output = 0\n",
    "\n",
    "for value in test_values:\n",
    "    output = test_func(value)\n",
    "\n",
    "    if output > max_output:\n",
    "        _input = value\n",
    "        max_output = output\n",
    "\n",
    "# Display the final output:\n",
    "print(f'Input value {_input} will get the lowest output value {max_output}')"
   ]
  },
  {
   "cell_type": "markdown",
   "metadata": {},
   "source": [
    "### More efficient pattern for finding the maximum:"
   ]
  },
  {
   "cell_type": "code",
   "execution_count": 9,
   "metadata": {},
   "outputs": [
    {
     "name": "stdout",
     "output_type": "stream",
     "text": [
      "Input value 32 will get the highest output value 96\n"
     ]
    }
   ],
   "source": [
    "# Leveraging the same value_dict from earlier code with minimum code change (use max method instead of min)\n",
    "_input = max(value_dict, key=value_dict.get)\n",
    "print(f'Input value {_input} will get the highest output value {value_dict[_input]}')"
   ]
  },
  {
   "cell_type": "code",
   "execution_count": null,
   "metadata": {},
   "outputs": [],
   "source": []
  }
 ],
 "metadata": {
  "kernelspec": {
   "display_name": "Python 3",
   "language": "python",
   "name": "python3"
  },
  "language_info": {
   "codemirror_mode": {
    "name": "ipython",
    "version": 3
   },
   "file_extension": ".py",
   "mimetype": "text/x-python",
   "name": "python",
   "nbconvert_exporter": "python",
   "pygments_lexer": "ipython3",
   "version": "3.7.5"
  }
 },
 "nbformat": 4,
 "nbformat_minor": 4
}
