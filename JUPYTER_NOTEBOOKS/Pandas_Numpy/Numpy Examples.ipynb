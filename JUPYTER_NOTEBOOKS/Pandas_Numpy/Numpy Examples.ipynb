{
 "cells": [
  {
   "cell_type": "markdown",
   "metadata": {},
   "source": [
    "### code is sourced from Medium.com titled: First Step in Data Science with Python - NumPy"
   ]
  },
  {
   "cell_type": "code",
   "execution_count": 2,
   "metadata": {},
   "outputs": [],
   "source": [
    "from random import randint\n",
    "import numpy as np"
   ]
  },
  {
   "cell_type": "code",
   "execution_count": 3,
   "metadata": {},
   "outputs": [],
   "source": [
    "no_of_items = 10\n",
    "lower_limit = 5\n",
    "upper_limit = 25"
   ]
  },
  {
   "cell_type": "code",
   "execution_count": 4,
   "metadata": {},
   "outputs": [
    {
     "name": "stdout",
     "output_type": "stream",
     "text": [
      "Random generated list from random lib: [16, 15, 25, 24, 23, 6, 20, 20, 23, 7]\n"
     ]
    }
   ],
   "source": [
    "# Traditional way of generating random list\n",
    "value_01 = [randint(lower_limit, upper_limit) for _ in range(no_of_items)]\n",
    "print(f'Random generated list from random lib: {value_01}')"
   ]
  },
  {
   "cell_type": "code",
   "execution_count": 5,
   "metadata": {},
   "outputs": [
    {
     "name": "stdout",
     "output_type": "stream",
     "text": [
      "Random generated numpy integer array: [17 20  5  8  8 12 14 24 23  9]\n"
     ]
    }
   ],
   "source": [
    "# Numpy random array\n",
    "np.random.seed(0)\n",
    "value_02 = np.random.randint(lower_limit, upper_limit, no_of_items)\n",
    "print(f'Random generated numpy integer array: {value_02}')"
   ]
  },
  {
   "cell_type": "code",
   "execution_count": 6,
   "metadata": {},
   "outputs": [],
   "source": [
    "# value_03 = np.random.rand(lower_limit, upper_limit, no_of_items)\n",
    "# print(f'Random generated numpy float array: {value_03}')\n",
    "#\n",
    "# value_04 = np.random.rand(lower_limit, upper_limit, no_of_items)\n",
    "# print(f'Random generated numpy float array: {value_04}')"
   ]
  },
  {
   "cell_type": "code",
   "execution_count": 7,
   "metadata": {},
   "outputs": [
    {
     "name": "stdout",
     "output_type": "stream",
     "text": [
      "Numpy array dimension: 1\n",
      "Numpy array size:      10\n",
      "Numpy array dtype:     int64\n",
      "Numpy array shape:     (10,)\n"
     ]
    }
   ],
   "source": [
    "print(f'Numpy array dimension: {value_02.ndim}')\n",
    "print(f'Numpy array size:      {value_02.size}')\n",
    "print(f'Numpy array dtype:     {value_02.dtype}')\n",
    "print(f'Numpy array shape:     {value_02.shape}')"
   ]
  },
  {
   "cell_type": "code",
   "execution_count": 9,
   "metadata": {},
   "outputs": [],
   "source": [
    "no_of_rows = 5\n",
    "no_of_columns = 2\n",
    "containers = value_02.reshape(no_of_rows, no_of_columns)"
   ]
  },
  {
   "cell_type": "code",
   "execution_count": 10,
   "metadata": {},
   "outputs": [
    {
     "name": "stdout",
     "output_type": "stream",
     "text": [
      "Reshaped numpy array (containers): [[17 20]\n",
      " [ 5  8]\n",
      " [ 8 12]\n",
      " [14 24]\n",
      " [23  9]]\n",
      "Containers dimension: 2\n",
      "Containers size:      10\n",
      "Containers dtype:     int64\n",
      "Containers shape:     (5, 2)\n"
     ]
    }
   ],
   "source": [
    "print(f'Reshaped numpy array (containers): {containers}')\n",
    "print(f'Containers dimension: {containers.ndim}')\n",
    "print(f'Containers size:      {containers.size}')\n",
    "print(f'Containers dtype:     {containers.dtype}')\n",
    "print(f'Containers shape:     {containers.shape}')"
   ]
  },
  {
   "cell_type": "code",
   "execution_count": 11,
   "metadata": {},
   "outputs": [],
   "source": [
    "# Build 5 cylindrical containers from the container numpy array\n",
    "radius = containers[:, 0]  # First element of the 2D arrays\n",
    "height = containers[:, 1]"
   ]
  },
  {
   "cell_type": "code",
   "execution_count": 12,
   "metadata": {},
   "outputs": [
    {
     "name": "stdout",
     "output_type": "stream",
     "text": [
      "Containers volume:       [18158.40553775   628.31853072  2412.74315796 14778.05184249\n",
      " 14957.12262374]\n",
      "Containers total volume (method 1): 50934.64169265132\n"
     ]
    }
   ],
   "source": [
    "# Method 1:\n",
    "volume = np.pi*(radius**2)*height\n",
    "total_volume = volume.sum()\n",
    "print(f'Containers volume:       {volume}')\n",
    "print(f'Containers total volume (method 1): {total_volume}')"
   ]
  },
  {
   "cell_type": "code",
   "execution_count": 13,
   "metadata": {},
   "outputs": [
    {
     "name": "stdout",
     "output_type": "stream",
     "text": [
      "Containers total volume (method 2): 50934.64169265132\n"
     ]
    }
   ],
   "source": [
    "# Method 2:\n",
    "# The dot product works here because both radius_squared and height are one dimensional\n",
    "# For 2D array, one of the array must use np.transpose() method\n",
    "radius_squared = np.square(radius)\n",
    "dot_product = np.dot(radius_squared, height)\n",
    "total_volume_by_dot_product = np.pi*dot_product\n",
    "print(f'Containers total volume (method 2): {total_volume_by_dot_product}')"
   ]
  },
  {
   "cell_type": "code",
   "execution_count": 14,
   "metadata": {},
   "outputs": [
    {
     "name": "stdout",
     "output_type": "stream",
     "text": [
      "Max volume is 18158.406 with index 0\n",
      "Min volume is 628.319 with index 1\n"
     ]
    }
   ],
   "source": [
    "max_volume = volume.max()\n",
    "index_of_max_volume = volume.argmax()\n",
    "min_volume = volume.min()\n",
    "index_of_min_volume = volume.argmin()\n",
    "print(f'Max volume is {max_volume:.3f} with index {index_of_max_volume}')\n",
    "print(f'Min volume is {min_volume:.3f} with index {index_of_min_volume}')"
   ]
  },
  {
   "cell_type": "code",
   "execution_count": 15,
   "metadata": {},
   "outputs": [
    {
     "name": "stdout",
     "output_type": "stream",
     "text": [
      "Volume mean value: 10186.928338530264\n",
      "Volume median value: 14778.051842486386\n",
      "Volume standard deviation: 7199.758245451731\n"
     ]
    }
   ],
   "source": [
    "volume_mean = np.mean(volume)\n",
    "volume_median = np.median(volume)\n",
    "volume_std_dev = np.std(volume)\n",
    "print(f'Volume mean value: {volume_mean}')\n",
    "print(f'Volume median value: {volume_median}')\n",
    "print(f'Volume standard deviation: {volume_std_dev}')"
   ]
  },
  {
   "cell_type": "code",
   "execution_count": null,
   "metadata": {},
   "outputs": [],
   "source": []
  }
 ],
 "metadata": {
  "kernelspec": {
   "display_name": "Python 3",
   "language": "python",
   "name": "python3"
  },
  "language_info": {
   "codemirror_mode": {
    "name": "ipython",
    "version": 3
   },
   "file_extension": ".py",
   "mimetype": "text/x-python",
   "name": "python",
   "nbconvert_exporter": "python",
   "pygments_lexer": "ipython3",
   "version": "3.7.5"
  }
 },
 "nbformat": 4,
 "nbformat_minor": 4
}
