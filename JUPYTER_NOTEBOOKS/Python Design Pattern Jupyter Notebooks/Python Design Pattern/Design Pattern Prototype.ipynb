{
 "cells": [
  {
   "cell_type": "markdown",
   "metadata": {},
   "source": [
    "# Prototype\n",
    "\n",
    "by Lucas Rumney"
   ]
  },
  {
   "cell_type": "markdown",
   "metadata": {},
   "source": [
    "## Concept\n",
    "\n",
    "Creational Pattern\n",
    "\n",
    "Creates new object instances by cloning prototype.\n",
    "\n",
    "\n",
    "The prototype pattern is a creational design pattern in software development. It is used when the type of objects to create is determined by a prototypical instance, which is cloned to produce new objects. This pattern is used to:\n",
    "\n",
    "- avoid subclasses of an object creator in the client application, like the factory method pattern does.\n",
    "\n",
    "- avoid the inherent cost of creating a new object in the standard way (e.g., using the 'new' keyword) when it is prohibitively expensive for a given application.\n",
    "\n",
    "\n",
    "To implement the pattern, declare an abstract base class that specifies a pure virtual clone() method. Any class that needs a \"polymorphic constructor\" capability derives itself from the abstract base class, and implements the clone() operation.\n",
    "\n",
    "The client, instead of writing code that invokes the \"new\" operator on a hard-coded class name, calls the clone() method on the prototype, calls a factory method with a parameter designating the particular concrete derived class desired, or invokes the clone() method through some mechanism provided by another design pattern.\n",
    "\n",
    "The mitotic division of a cell — resulting in two identical cells — is an example of a prototype that plays an active role in copying itself and thus, demonstrates the Prototype pattern. When a cell splits, two cells of identical genotype result. In other words, the cell clones itself.\n"
   ]
  },
  {
   "cell_type": "markdown",
   "metadata": {},
   "source": [
    "## Python Implementation"
   ]
  },
  {
   "cell_type": "code",
   "execution_count": 3,
   "metadata": {},
   "outputs": [
    {
     "name": "stdout",
     "output_type": "stream",
     "text": [
      "[{'default': 'default'}, {'objecta': 'a-value'}, {'objectb': 'b-value'}]\n"
     ]
    }
   ],
   "source": [
    "#!/usr/bin/env python\n",
    "# -*- coding: utf-8 -*-\n",
    "\n",
    "\n",
    "class Prototype(object):\n",
    "\n",
    "    value = 'default'\n",
    "\n",
    "    def clone(self, **attrs):\n",
    "        \"\"\"Clone a prototype and update inner attributes dictionary\"\"\"\n",
    "        # Python in Practice, Mark Summerfield\n",
    "        obj = self.__class__()\n",
    "        obj.__dict__.update(attrs)\n",
    "        return obj\n",
    "\n",
    "\n",
    "class PrototypeDispatcher(object):\n",
    "\n",
    "    def __init__(self):\n",
    "        self._objects = {}\n",
    "\n",
    "    def get_objects(self):\n",
    "        \"\"\"Get all objects\"\"\"\n",
    "        return self._objects\n",
    "\n",
    "    def register_object(self, name, obj):\n",
    "        \"\"\"Register an object\"\"\"\n",
    "        self._objects[name] = obj\n",
    "\n",
    "    def unregister_object(self, name):\n",
    "        \"\"\"Unregister an object\"\"\"\n",
    "        del self._objects[name]\n",
    "\n",
    "\n",
    "def main():\n",
    "    dispatcher = PrototypeDispatcher()\n",
    "    prototype = Prototype()\n",
    "\n",
    "    d = prototype.clone()\n",
    "    a = prototype.clone(value='a-value', category='a')\n",
    "    b = prototype.clone(value='b-value', is_checked=True)\n",
    "    dispatcher.register_object('objecta', a)\n",
    "    dispatcher.register_object('objectb', b)\n",
    "    dispatcher.register_object('default', d)\n",
    "    print([{n: p.value} for n, p in dispatcher.get_objects().items()])\n",
    "\n",
    "\n",
    "if __name__ == '__main__':\n",
    "    main()\n",
    "\n",
    "### OUTPUT ###\n",
    "# [{'objectb': 'b-value'}, {'default': 'default'}, {'objecta': 'a-value'}]"
   ]
  },
  {
   "cell_type": "markdown",
   "metadata": {},
   "source": [
    "## Further Reading\n",
    "\n",
    "https://gist.github.com/pazdera/1122366\n",
    "\n",
    "https://github.com/tylerlaberge/PyPattyrn/blob/master/pypattyrn/creational/prototype.py\n",
    "\n"
   ]
  },
  {
   "cell_type": "code",
   "execution_count": null,
   "metadata": {},
   "outputs": [],
   "source": []
  }
 ],
 "metadata": {
  "kernelspec": {
   "display_name": "Python 2",
   "language": "python",
   "name": "python2"
  },
  "language_info": {
   "codemirror_mode": {
    "name": "ipython",
    "version": 2
   },
   "file_extension": ".py",
   "mimetype": "text/x-python",
   "name": "python",
   "nbconvert_exporter": "python",
   "pygments_lexer": "ipython2",
   "version": "2.7.14"
  }
 },
 "nbformat": 4,
 "nbformat_minor": 2
}
