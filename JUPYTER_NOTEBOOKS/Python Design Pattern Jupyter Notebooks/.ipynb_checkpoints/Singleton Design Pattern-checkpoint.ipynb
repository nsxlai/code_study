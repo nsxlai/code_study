{
 "cells": [
  {
   "cell_type": "markdown",
   "metadata": {},
   "source": [
    "# Singleton Design Pattern"
   ]
  },
  {
   "cell_type": "markdown",
   "metadata": {},
   "source": [
    "_The singleton pattern is a design pattern that is used to ensure that a class can only have one concurrent instance. Whenever additional objects of a singleton class are required, the previously created, single instance is provided._\n",
    "\n",
    "## The official definition:\n",
    "_The singleton pattern is a Gang of Four design pattern. This is a creational pattern as it is used to control class instantiation. The pattern ensures that only one object of a particular class is ever created. All further references to objects of the singleton class refer to the same underlying instance._\n",
    "\n",
    "_The singleton pattern is useful when a single, global point of access to a limited resource is required. It is more appropriate than creating a global variable as this may be copied, leading to multiple access points and the risk that the duplicates become out of step with the original._\n",
    "\n",
    "_An example of the use of a singleton class is a connector to a legacy data file that only supports a single reader at any time. In this case, creating multiple instances of the legacy data connector would simply cause all but the first to fail when reading from the file. By forcing a single, global instance to be used, only one underlying connection would ever be active._"
   ]
  },
  {
   "cell_type": "markdown",
   "metadata": {},
   "source": [
    "source: http://www.blackwasp.co.uk/Singleton.aspx"
   ]
  },
  {
   "cell_type": "markdown",
   "metadata": {},
   "source": [
    "***"
   ]
  },
  {
   "cell_type": "markdown",
   "metadata": {},
   "source": [
    "## To put it simply (from my poin of view)\n",
    "1. To define an object that is connected to a single resource and can only be use once at the time.\n",
    "2. Only one instance may exist at any given time.\n",
    "\n",
    "The most common example in the Cisco MFG productin environment will be the use of Telnet line to connect to a single resource."
   ]
  },
  {
   "cell_type": "markdown",
   "metadata": {},
   "source": [
    "***"
   ]
  },
  {
   "cell_type": "markdown",
   "metadata": {},
   "source": [
    "### Singleton Python Implementation\n",
    "#### Example 1 (official Python method)\n",
    "1. In Python we use the __new__ class to help ensure there’s only one instance of a class\n",
    "2. When the __new__ class is called, it typically creates a new instances that class\n",
    "3. When we override it, we first check if our singleton instance has been created; if not, we create it using a super() call."
   ]
  },
  {
   "cell_type": "code",
   "execution_count": 39,
   "metadata": {},
   "outputs": [],
   "source": [
    "class OneOnly:\n",
    "    _singleton = None\n",
    "    def __new__(cls, *args, **kwargs):\n",
    "        if not cls._singleton:\n",
    "            # THEN\n",
    "            cls._singleton = super(OneOnly, cls).__new__(cls, *args, **kwargs)\n",
    "            # ENDIF;\n",
    "        return cls._singleton\n",
    "\n",
    "# END OneOnly."
   ]
  },
  {
   "cell_type": "code",
   "execution_count": 25,
   "metadata": {},
   "outputs": [],
   "source": [
    "o1 = OneOnly()\n",
    "o2 = OneOnly()"
   ]
  },
  {
   "cell_type": "code",
   "execution_count": 47,
   "metadata": {},
   "outputs": [
    {
     "data": {
      "text/plain": [
       "True"
      ]
     },
     "execution_count": 47,
     "metadata": {},
     "output_type": "execute_result"
    }
   ],
   "source": [
    "o1 == o2"
   ]
  },
  {
   "cell_type": "code",
   "execution_count": 48,
   "metadata": {},
   "outputs": [
    {
     "data": {
      "text/plain": [
       "True"
      ]
     },
     "execution_count": 48,
     "metadata": {},
     "output_type": "execute_result"
    }
   ],
   "source": [
    "o1 is o2"
   ]
  },
  {
   "cell_type": "code",
   "execution_count": 27,
   "metadata": {},
   "outputs": [
    {
     "data": {
      "text/plain": [
       "<__main__.OneOnly at 0x10361f048>"
      ]
     },
     "execution_count": 27,
     "metadata": {},
     "output_type": "execute_result"
    }
   ],
   "source": [
    "o1"
   ]
  },
  {
   "cell_type": "code",
   "execution_count": 49,
   "metadata": {
    "scrolled": true
   },
   "outputs": [
    {
     "data": {
      "text/plain": [
       "<__main__.OneOnly at 0x10361f048>"
      ]
     },
     "execution_count": 49,
     "metadata": {},
     "output_type": "execute_result"
    }
   ],
   "source": [
    "o2"
   ]
  },
  {
   "cell_type": "code",
   "execution_count": 53,
   "metadata": {},
   "outputs": [],
   "source": [
    "o1._singleton = 'this is a test'"
   ]
  },
  {
   "cell_type": "code",
   "execution_count": 56,
   "metadata": {},
   "outputs": [
    {
     "data": {
      "text/plain": [
       "'this is a test'"
      ]
     },
     "execution_count": 56,
     "metadata": {},
     "output_type": "execute_result"
    }
   ],
   "source": [
    "o1._singleton"
   ]
  },
  {
   "cell_type": "code",
   "execution_count": 57,
   "metadata": {},
   "outputs": [
    {
     "data": {
      "text/plain": [
       "'this is a test'"
      ]
     },
     "execution_count": 57,
     "metadata": {},
     "output_type": "execute_result"
    }
   ],
   "source": [
    "o2._singleton"
   ]
  },
  {
   "cell_type": "markdown",
   "metadata": {},
   "source": [
    "Soruce: https://www.youtube.com/watch?v=qzCHtYoqh_I&index=2&list=PLV4r2z6seHffY8WtVa05bEh39VhcfQjIj&t=0s"
   ]
  },
  {
   "cell_type": "markdown",
   "metadata": {},
   "source": [
    "***"
   ]
  },
  {
   "cell_type": "markdown",
   "metadata": {},
   "source": [
    "#### Example 2 (official Python method)"
   ]
  },
  {
   "cell_type": "code",
   "execution_count": 33,
   "metadata": {},
   "outputs": [],
   "source": [
    "class MySingleton(object):\n",
    "    _instance = None\n",
    "    def __new__(self):\n",
    "        if not self._instance:\n",
    "            self._instance = super(MySingleton, self).__new__(self)\n",
    "            self.y = 10\n",
    "        return self._instance"
   ]
  },
  {
   "cell_type": "code",
   "execution_count": 35,
   "metadata": {},
   "outputs": [
    {
     "name": "stdout",
     "output_type": "stream",
     "text": [
      "10\n"
     ]
    }
   ],
   "source": [
    "x = MySingleton()\n",
    "print(x.y)"
   ]
  },
  {
   "cell_type": "code",
   "execution_count": 36,
   "metadata": {},
   "outputs": [
    {
     "name": "stdout",
     "output_type": "stream",
     "text": [
      "20\n"
     ]
    }
   ],
   "source": [
    "x.y = 20\n",
    "print(x.y)"
   ]
  },
  {
   "cell_type": "code",
   "execution_count": 38,
   "metadata": {},
   "outputs": [
    {
     "name": "stdout",
     "output_type": "stream",
     "text": [
      "20\n"
     ]
    }
   ],
   "source": [
    "z = MySingleton()\n",
    "print(z.y)"
   ]
  },
  {
   "cell_type": "markdown",
   "metadata": {},
   "source": [
    "source: https://www.youtube.com/watch?v=6IV_FYx6MQA&index=2&list=PLV4r2z6seHffY8WtVa05bEh39VhcfQjIj"
   ]
  },
  {
   "cell_type": "markdown",
   "metadata": {},
   "source": [
    "***"
   ]
  },
  {
   "cell_type": "markdown",
   "metadata": {},
   "source": [
    "#### Example 3 (using decorator)"
   ]
  },
  {
   "cell_type": "code",
   "execution_count": 40,
   "metadata": {},
   "outputs": [],
   "source": [
    "def singleton(myClass):\n",
    "    instances = {}\n",
    "    def getInstance(*args, **kwargs):\n",
    "        if myClass not in instances:\n",
    "            instances[myClass] = myClass(*args, **kwargs)\n",
    "        return instances[myClass]\n",
    "    return getInstance"
   ]
  },
  {
   "cell_type": "code",
   "execution_count": 41,
   "metadata": {},
   "outputs": [],
   "source": [
    "@singleton\n",
    "class TestClass(object):\n",
    "    pass"
   ]
  },
  {
   "cell_type": "code",
   "execution_count": 42,
   "metadata": {},
   "outputs": [],
   "source": [
    "x = TestClass()"
   ]
  },
  {
   "cell_type": "code",
   "execution_count": 45,
   "metadata": {},
   "outputs": [
    {
     "data": {
      "text/plain": [
       "<__main__.TestClass at 0x10361fba8>"
      ]
     },
     "execution_count": 45,
     "metadata": {},
     "output_type": "execute_result"
    }
   ],
   "source": [
    "x"
   ]
  },
  {
   "cell_type": "code",
   "execution_count": 46,
   "metadata": {},
   "outputs": [
    {
     "data": {
      "text/plain": [
       "<__main__.TestClass at 0x10361fba8>"
      ]
     },
     "execution_count": 46,
     "metadata": {},
     "output_type": "execute_result"
    }
   ],
   "source": [
    "y = TestClass()\n",
    "y"
   ]
  },
  {
   "cell_type": "markdown",
   "metadata": {},
   "source": [
    "source: https://www.youtube.com/watch?v=6IV_FYx6MQA&index=2&list=PLV4r2z6seHffY8WtVa05bEh39VhcfQjIj"
   ]
  },
  {
   "cell_type": "markdown",
   "metadata": {},
   "source": [
    "***"
   ]
  },
  {
   "cell_type": "markdown",
   "metadata": {},
   "source": [
    "#### Example 4 (using Apollo named_priority_lock)"
   ]
  },
  {
   "cell_type": "markdown",
   "metadata": {},
   "source": [
    "Apollo provide the locking mechanism to ensure only 1 container can access the physical resource (like power cycle box)"
   ]
  },
  {
   "cell_type": "code",
   "execution_count": null,
   "metadata": {},
   "outputs": [],
   "source": [
    "[...some code...]\n",
    "\n",
    "    # Acquire lock\n",
    "    log.info('Setting up the lock...')\n",
    "    rdt_power_cycle_lock = named_priority_lock(lockname=\"rdt_power_cycle_lock\", wait_timeout=15000) # each test cycle takes roughly 9000 seconds\n",
    "    ud['lock'] = rdt_power_cycle_lock\n",
    "\n",
    "    try:\n",
    "        log.info('Acquiring lock...')\n",
    "        rdt_power_cycle_lock.acquire()\n",
    "    except apexceptions.TimeoutException as e:\n",
    "        log.info('Did not acquire the lock; exiting...')\n",
    "        return lib.FAIL\n",
    "\n",
    "[...some code...]"
   ]
  },
  {
   "cell_type": "markdown",
   "metadata": {},
   "source": [
    "Each container will run the code shown above. When the first container reached this point in script, it will lock the resource and all other containers that reaches this script point later will be waiting for the lock to be released. This technically does not follow the Singleton method shown in the previous examples but the idea is the same: to allow only single access to one physical resource."
   ]
  },
  {
   "cell_type": "markdown",
   "metadata": {},
   "source": [
    "***"
   ]
  },
  {
   "cell_type": "markdown",
   "metadata": {},
   "source": [
    "### Example 1: Controlling the chamber\n",
    "Certain chamber models are still using Telnet as the primary method of connection. To control the chamber:\n",
    "\n",
    "#### Control Method 1\n",
    "Instatiate the Telnet connection within each Apollo container. If there are several UUTs inside the chamber that need to access the chamber to adjust the temperature, the temperature may change every time different UUTs trys to access the chamber. This situation is purely hypothetical and it is not realistic in MFG environment. However, for study purpose, using **Singleton Design Pattern** will prevent the chamber resource be share among different UUTs inside the chamber. Only the first UUT that reach the point that initiate the chamber access will control the chamber resource.\n",
    "\n",
    "#### Control Method 2\n",
    "Use a dedicated dummy container to act as a single point of resource access. This is similar to the autotest chamber control methodology. This way only 1 container can be used to control the chamber at any one time. This case the **Singleton Design Pattern** is not required."
   ]
  },
  {
   "cell_type": "markdown",
   "metadata": {},
   "source": [
    "***"
   ]
  },
  {
   "cell_type": "markdown",
   "metadata": {},
   "source": [
    "### Example 2: Controlling power cycle boxes\n",
    "Certain power cycle box model uses Telnet only access with only 1 Telnet line to control multiple power outlets to the UUTs. For example, Synaccess uses a single Telnet session (or web interface) to control 8 power outlets.\n",
    "\n",
    "#### Control Method 1\n",
    "Use the multithreading to control the chamber Telnet access lock and wait for the resource availability in a round robin (first come first server; release the Telnet resource when finished). The code to use for thread locking methodology can be classify as **Single Design Pattern** but coding implementation is different.\n",
    "\n",
    "#### Control Method 2\n",
    "The use of **Single Design Pattern** can ensure only one Telnet session stays active to the power cycle box for all the UUTs trying to access to it. _See example at the later note._\n"
   ]
  },
  {
   "cell_type": "markdown",
   "metadata": {},
   "source": [
    "***"
   ]
  }
 ],
 "metadata": {
  "kernelspec": {
   "display_name": "Python 3",
   "language": "python",
   "name": "python3"
  },
  "language_info": {
   "codemirror_mode": {
    "name": "ipython",
    "version": 3
   },
   "file_extension": ".py",
   "mimetype": "text/x-python",
   "name": "python",
   "nbconvert_exporter": "python",
   "pygments_lexer": "ipython3",
   "version": "3.6.5"
  }
 },
 "nbformat": 4,
 "nbformat_minor": 2
}
